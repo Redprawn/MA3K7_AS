{
 "cells": [
  {
   "cell_type": "markdown",
   "id": "565542cb-ad5b-4770-b0ac-c035b6c0c53b",
   "metadata": {},
   "source": [
    "As 2"
   ]
  },
  {
   "cell_type": "code",
   "execution_count": 56,
   "id": "c5564412-07f9-4374-81eb-f9fca948a4c8",
   "metadata": {
    "tags": []
   },
   "outputs": [],
   "source": [
    "##Code 1: random bots\n",
    "\n",
    "\n",
    "import numpy as np\n",
    "n = 3\n",
    "\n",
    "rng = np.random.default_rng()\n",
    "\n",
    "\n",
    "\n",
    "##bot random when no strategy\n",
    "\n",
    "def botPick(m):\n",
    "    i = rng.integers(0, n)\n",
    "    j = rng.integers(0, n)\n",
    "        \n",
    "    if m[i, j] == 2:\n",
    "        return i, j\n",
    "    else:\n",
    "        return botPick(m)\n",
    "\n",
    "\n",
    "\n",
    "##if still not full\n",
    "def hasTwo(m):\n",
    "    n = m.shape[0]\n",
    "    for x in range(n):\n",
    "        for y in range(n):\n",
    "            if( m[x,y] == 2 ):\n",
    "                return True\n",
    "    return False\n",
    "\n",
    "\n",
    "                    \n",
    "\n",
    "def repeat(n):\n",
    "    global k\n",
    "    m = 2*np.ones((n,n),int)\n",
    "    i = rng.integers(0,n)\n",
    "    j = rng.integers(0,n)\n",
    "    m[i,j] = 0   ##start zero at a random placea\n",
    "    while hasTwo(m) == True:\n",
    "        i, j = botPick(m)\n",
    "        m[i,j] = 1\n",
    "        i, j = botPick(m)\n",
    "        m[i,j] = 0\n",
    "    if (np.linalg.det(m)) == 0:\n",
    "        #print(m)   #when you want to see random matrices, use these\n",
    "        #print()\n",
    "        k += 1        \n",
    "\n",
    "\n",
    "\n",
    "def rxtimes(times,n):\n",
    "    for i in range (times):\n",
    "        repeat(n)\n",
    "\n",
    "    print(k)"
   ]
  },
  {
   "cell_type": "code",
   "execution_count": 58,
   "id": "d8c0d5ae-5d7d-4132-89c5-4f6bcfa61970",
   "metadata": {
    "tags": []
   },
   "outputs": [
    {
     "name": "stdout",
     "output_type": "stream",
     "text": [
      "718\n"
     ]
    }
   ],
   "source": [
    "k = 0\n",
    "n = 3\n",
    "rxtimes(1000 , 3)"
   ]
  },
  {
   "cell_type": "code",
   "execution_count": null,
   "id": "5b3be6df-83b5-498b-8a33-080580c42fad",
   "metadata": {},
   "outputs": [],
   "source": [
    "##this is a try of making the bots more clever, but I didn't use it eventually(and it didn't work lol)\n",
    "def checkrow(m):\n",
    "    k = 0\n",
    "    length = m.shape[0]\n",
    "    sus = length+1 , length+1\n",
    "    for i in range(length-1):\n",
    "        for j in range(length-1):\n",
    "            if (m[i,j] == 0):\n",
    "                k = k + 1\n",
    "                print(k)\n",
    "        if (k == length-1):\n",
    "            for l in range(length-1):\n",
    "                if m[i,l] == 2:\n",
    "                    sus = i,l\n",
    "                    break\n",
    "        k = 0\n",
    "        \n",
    "    \n",
    "    if (sus == length+1 , length+1):\n",
    "        return False\n",
    "    else:\n",
    "        return sus"
   ]
  },
  {
   "cell_type": "code",
   "execution_count": 12,
   "id": "8a7303b1-4ba4-4dd3-b090-ae802a23b3eb",
   "metadata": {},
   "outputs": [],
   "source": [
    "##Code 2: random bots\n",
    "\n",
    "\n",
    "import numpy as np\n",
    "n = 4\n",
    "\n",
    "rng = np.random.default_rng()\n",
    "\n",
    "\n",
    "\n",
    "##bot random when no strategy\n",
    "\n",
    "def botPick(m):\n",
    "    i = rng.integers(0, n)\n",
    "    j = rng.integers(0, n)\n",
    "        \n",
    "    if m[i, j] == 2:\n",
    "        return i, j\n",
    "    else:\n",
    "        return botPick(m)\n",
    "\n",
    "\n",
    "\n",
    "##if still not full\n",
    "def hasTwo(m):\n",
    "    n = m.shape[0]\n",
    "    for x in range(n):\n",
    "        for y in range(n):\n",
    "            if( m[x,y] == 2 ):\n",
    "                return True\n",
    "    return False\n",
    "\n",
    "\n",
    "                    \n",
    "\n",
    "def repeat(n):\n",
    "    global k\n",
    "    m = 2*np.ones((n,n),int)\n",
    "   \n",
    "    while hasTwo(m) == True:\n",
    "        i, j = botPick(m)\n",
    "        m[i,j] = 0\n",
    "        i, j = botPick(m)\n",
    "        m[i,j] = 1\n",
    "    if (np.linalg.det(m)) == 0:\n",
    "        print(m)\n",
    "        print()\n",
    "        k += 1        \n",
    "\n",
    "\n",
    "\n",
    "def rxtimes(times,n):\n",
    "    for i in range (times):\n",
    "        repeat(n)\n",
    "\n",
    "    print(k)"
   ]
  },
  {
   "cell_type": "code",
   "execution_count": 13,
   "id": "347a48c9-8ed2-487d-9fc9-38cf20997a69",
   "metadata": {
    "tags": []
   },
   "outputs": [
    {
     "name": "stdout",
     "output_type": "stream",
     "text": [
      "[[0 0 0 0]\n",
      " [1 0 0 1]\n",
      " [0 1 1 1]\n",
      " [0 1 1 1]]\n",
      "\n",
      "[[0 0 0 1]\n",
      " [1 0 0 0]\n",
      " [0 1 1 1]\n",
      " [1 1 1 0]]\n",
      "\n",
      "[[1 1 1 1]\n",
      " [1 0 0 0]\n",
      " [1 1 0 1]\n",
      " [0 0 0 0]]\n",
      "\n",
      "[[1 0 0 1]\n",
      " [1 1 0 1]\n",
      " [1 0 0 0]\n",
      " [1 1 0 0]]\n",
      "\n",
      "[[0 0 1 0]\n",
      " [0 1 0 0]\n",
      " [1 0 0 1]\n",
      " [1 1 1 1]]\n",
      "\n",
      "[[0 0 0 0]\n",
      " [0 1 1 1]\n",
      " [1 1 1 0]\n",
      " [0 1 1 0]]\n",
      "\n",
      "6\n"
     ]
    }
   ],
   "source": [
    "k = 0\n",
    "n = 4\n",
    "rxtimes(10 , 4)"
   ]
  },
  {
   "cell_type": "code",
   "execution_count": 60,
   "id": "ee25734f-0271-4bf7-b535-44c1acc8b5dd",
   "metadata": {},
   "outputs": [],
   "source": [
    "##Code 3: random bots when start with 1, n = 3\n",
    "\n",
    "\n",
    "import numpy as np\n",
    "n = 3\n",
    "\n",
    "rng = np.random.default_rng()\n",
    "\n",
    "\n",
    "\n",
    "##bot random when no strategy\n",
    "\n",
    "def botPick(m):\n",
    "    i = rng.integers(0, n)\n",
    "    j = rng.integers(0, n)\n",
    "        \n",
    "    if m[i, j] == 2:\n",
    "        return i, j\n",
    "    else:\n",
    "        return botPick(m)\n",
    "\n",
    "\n",
    "\n",
    "##if still not full\n",
    "def hasTwo(m):\n",
    "    n = m.shape[0]\n",
    "    for x in range(n):\n",
    "        for y in range(n):\n",
    "            if( m[x,y] == 2 ):\n",
    "                return True\n",
    "    return False\n",
    "\n",
    "\n",
    "                    \n",
    "\n",
    "def repeat(n):\n",
    "    global k\n",
    "    m = 2*np.ones((n,n),int)\n",
    "    ##start zero at a random placea\n",
    "    while hasTwo(m) == True:\n",
    "        i, j = botPick(m)\n",
    "        m[i,j] = 1\n",
    "        if hasTwo(m) == True:\n",
    "            i, j = botPick(m)\n",
    "            m[i,j] = 0\n",
    "    if (np.linalg.det(m)) == 0:\n",
    "        k += 1        \n",
    "\n",
    "\n",
    "\n",
    "def rxtimes(times,n):\n",
    "    for i in range (times):\n",
    "        repeat(n)\n",
    "\n",
    "    print(k)"
   ]
  },
  {
   "cell_type": "code",
   "execution_count": 64,
   "id": "eafdfd54-0094-431a-bc2b-6c34c4857770",
   "metadata": {
    "tags": []
   },
   "outputs": [
    {
     "name": "stdout",
     "output_type": "stream",
     "text": [
      "428\n"
     ]
    }
   ],
   "source": [
    "k = 0\n",
    "n = 3\n",
    "rxtimes(1000 , 3)"
   ]
  },
  {
   "cell_type": "code",
   "execution_count": null,
   "id": "ae9bb906-16ef-4d96-8738-5225278efe6f",
   "metadata": {},
   "outputs": [],
   "source": []
  }
 ],
 "metadata": {
  "kernelspec": {
   "display_name": "Python 3 (ipykernel)",
   "language": "python",
   "name": "python3"
  },
  "language_info": {
   "codemirror_mode": {
    "name": "ipython",
    "version": 3
   },
   "file_extension": ".py",
   "mimetype": "text/x-python",
   "name": "python",
   "nbconvert_exporter": "python",
   "pygments_lexer": "ipython3",
   "version": "3.11.5"
  }
 },
 "nbformat": 4,
 "nbformat_minor": 5
}
